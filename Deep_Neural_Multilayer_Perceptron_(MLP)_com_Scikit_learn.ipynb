{
  "nbformat": 4,
  "nbformat_minor": 0,
  "metadata": {
    "colab": {
      "name": "Deep Neural Multilayer Perceptron (MLP) com Scikit-learn.ipynb",
      "provenance": [],
      "collapsed_sections": [],
      "authorship_tag": "ABX9TyPCIQhQiAF/HySQ2qwUUGAM",
      "include_colab_link": true
    },
    "kernelspec": {
      "name": "python3",
      "display_name": "Python 3"
    },
    "language_info": {
      "name": "python"
    }
  },
  "cells": [
    {
      "cell_type": "markdown",
      "metadata": {
        "id": "view-in-github",
        "colab_type": "text"
      },
      "source": [
        "<a href=\"https://colab.research.google.com/github/FGalvao77/Deep-Neural-Multilayer-Perceptron-MLP-com-Scikit-learn/blob/main/Deep_Neural_Multilayer_Perceptron_(MLP)_com_Scikit_learn.ipynb\" target=\"_parent\"><img src=\"https://colab.research.google.com/assets/colab-badge.svg\" alt=\"Open In Colab\"/></a>"
      ]
    },
    {
      "cell_type": "markdown",
      "metadata": {
        "id": "Vf6RIFaDkETQ"
      },
      "source": [
        "#**Deep Neural Multilayer Perceptron (MLP) com Scikit-learn**\n",
        "\n",
        "---\n",
        "\n",
        "\n",
        "``MLP`` é um tipo de rede neural artificial (**ANN**).<br>\n",
        "\n",
        "_O MLP mais simples consiste em pelo menos três camadas de nós: uma camada de entrada, uma camada oculta e uma camada de saída._"
      ]
    },
    {
      "cell_type": "markdown",
      "metadata": {
        "id": "c_jh-6TwlCTQ"
      },
      "source": [
        "No mundo do aprendizado profundo (deep learning), ``TensorFlow``, ``Keras``, ``Microsoft Cognitive Toolkit (CNTK)`` e`` PyTorch`` são muito populares. \n",
        "\n",
        "A maioria de nós pode não perceber que a biblioteca muito popular de aprendizado de máquina, o **Scikit-learn** também é capaz de uma modelagem básica de aprendizado profundo. \n",
        "\n",
        "Neste artigo, discutiremos os domínios da viabilidade da modelagem de aprendizado profundo no Scikit-learn e as suas limitações. Além disso, discutiremos a implementação prática com dois exemplos.\n",
        "\n",
        "Pontos salientes do **Multilayer Perceptron (MLP**) no _Scikit-learn_: \n",
        "- não há função de ativação na camada de saída.\n",
        "\n",
        "Para cenários de regressão, o erro quadrado é a função de perda e, a entropia cruzada é a função de perda para a classificação.\n",
        "\n",
        "Ele pode funcionar com regressão de valores alvo simples ou múltiplos.\n",
        "Ao contrário de outros pacotes populares, como Keras, a implementação de MLP no Scikit não oferece suporte a GPU. Não podemos ajustar os parâmetros como diferentes funções de ativação, inicializadores de peso, etc. para cada camada."
      ]
    },
    {
      "cell_type": "markdown",
      "metadata": {
        "id": "xr1JeFNBmys7"
      },
      "source": [
        "### **Exemplo de regressão**\n",
        "\n",
        "---\n",
        "\n",
        "Nesse exemplo de regressão, utilizaremos um conjunto de dados de casas da Califórnia (`fetch_california_housing`) e, onde nossa rede tentará prever o valor de venda de cada casa dadas alguns atributos próprio do imóvel.\n",
        "\n"
      ]
    },
    {
      "cell_type": "markdown",
      "metadata": {
        "id": "wjKzJiJ8o59k"
      },
      "source": [
        "- **Etapa 1:** No pacote Scikit-Learn, MLPRegressor é implementado no módulo ``neural_network``. Importaremos os outros módulos como “train_test_split” para dividir o conjunto de dados em treinamento e conjunto de treinamento para testar o modelo, “fetch_california_housing” para obter os dados e “StandardScaler” para dimensionar os dados, já que diferentes recursos (variáveis ​​independentes) têm grande valor escala de alcance. É muito importante dimensionar os dados usados ​​para treinar o modelo.\n",
        "\n",
        "Você pode aprender mais sobre os diferentes escaladores no artigo Escalonamento de recursos - efeito de diferentes escaladores Scikit-Learn: mergulho profundo."
      ]
    },
    {
      "cell_type": "code",
      "metadata": {
        "id": "YCKO89T-j9cZ"
      },
      "source": [
        "# importando as bibliotecas\n",
        "import pandas as pd\n",
        "from sklearn.neural_network import MLPRegressor\n",
        "from sklearn.model_selection import train_test_split\n",
        "from sklearn.datasets import fetch_california_housing\n",
        "from sklearn.preprocessing import StandardScaler\n",
        "from sklearn.metrics import r2_score"
      ],
      "execution_count": null,
      "outputs": []
    },
    {
      "cell_type": "markdown",
      "metadata": {
        "id": "rBBp2qbLvlyv"
      },
      "source": [
        "- **Etapa 2:** dividiremos o conjunto de dados em conjunto de dados de treinamento e teste. Reservamos 20% do conjunto de dados para verificar a precisão do modelo treinado. \n",
        "\n",
        "Os conjuntos de dados de treino e teste são dimensionados posteriormente para garantir que os dados de entrada sejam normalmente distribuídos de forma padrão, centralizados em torno de zero e com variação na mesma ordem."
      ]
    },
    {
      "cell_type": "code",
      "metadata": {
        "id": "BuE3aTk5mXK1",
        "colab": {
          "base_uri": "https://localhost:8080/"
        },
        "outputId": "795b3b1e-6393-4274-afa2-2b04085343ad"
      },
      "source": [
        "# instanciando o conjunto de dados\n",
        "cal_housing = fetch_california_housing()"
      ],
      "execution_count": null,
      "outputs": [
        {
          "output_type": "stream",
          "name": "stderr",
          "text": [
            "Downloading Cal. housing from https://ndownloader.figshare.com/files/5976036 to /root/scikit_learn_data\n"
          ]
        }
      ]
    },
    {
      "cell_type": "code",
      "metadata": {
        "colab": {
          "base_uri": "https://localhost:8080/"
        },
        "id": "yW1aaj5lwdmI",
        "outputId": "55f0b391-4203-4e2f-e862-67649a8ade5a"
      },
      "source": [
        "# visualizando informações gerais do dataset\n",
        "print(cal_housing.DESCR)"
      ],
      "execution_count": null,
      "outputs": [
        {
          "output_type": "stream",
          "name": "stdout",
          "text": [
            ".. _california_housing_dataset:\n",
            "\n",
            "California Housing dataset\n",
            "--------------------------\n",
            "\n",
            "**Data Set Characteristics:**\n",
            "\n",
            "    :Number of Instances: 20640\n",
            "\n",
            "    :Number of Attributes: 8 numeric, predictive attributes and the target\n",
            "\n",
            "    :Attribute Information:\n",
            "        - MedInc        median income in block\n",
            "        - HouseAge      median house age in block\n",
            "        - AveRooms      average number of rooms\n",
            "        - AveBedrms     average number of bedrooms\n",
            "        - Population    block population\n",
            "        - AveOccup      average house occupancy\n",
            "        - Latitude      house block latitude\n",
            "        - Longitude     house block longitude\n",
            "\n",
            "    :Missing Attribute Values: None\n",
            "\n",
            "This dataset was obtained from the StatLib repository.\n",
            "http://lib.stat.cmu.edu/datasets/\n",
            "\n",
            "The target variable is the median house value for California districts.\n",
            "\n",
            "This dataset was derived from the 1990 U.S. census, using one row per census\n",
            "block group. A block group is the smallest geographical unit for which the U.S.\n",
            "Census Bureau publishes sample data (a block group typically has a population\n",
            "of 600 to 3,000 people).\n",
            "\n",
            "It can be downloaded/loaded using the\n",
            ":func:`sklearn.datasets.fetch_california_housing` function.\n",
            "\n",
            ".. topic:: References\n",
            "\n",
            "    - Pace, R. Kelley and Ronald Barry, Sparse Spatial Autoregressions,\n",
            "      Statistics and Probability Letters, 33 (1997) 291-297\n",
            "\n"
          ]
        }
      ]
    },
    {
      "cell_type": "code",
      "metadata": {
        "id": "2G8QjJrPmXIf"
      },
      "source": [
        "# instaciando as variáveis independentes\n",
        "X = pd.DataFrame(cal_housing.data, \n",
        "                 columns = cal_housing.feature_names)\n",
        "\n",
        "# instancaindo a variável dependente\n",
        "y = cal_housing.target"
      ],
      "execution_count": null,
      "outputs": []
    },
    {
      "cell_type": "code",
      "metadata": {
        "id": "6e-6sLd6mXFz"
      },
      "source": [
        "# separando os dados de treino e teste\n",
        "X_train, X_test, y_train, y_test = train_test_split(X, y, \n",
        "                                                   random_state=1, \n",
        "                                                    test_size=0.2)"
      ],
      "execution_count": null,
      "outputs": []
    },
    {
      "cell_type": "markdown",
      "metadata": {
        "id": "jBb2dJByx53q"
      },
      "source": [
        "> - train_test_split\n",
        "  - https://bit.ly/3i3G6CW"
      ]
    },
    {
      "cell_type": "code",
      "metadata": {
        "colab": {
          "base_uri": "https://localhost:8080/"
        },
        "id": "4Qsx41-zmXD6",
        "outputId": "b0f9c438-7ec8-4596-f3eb-90bc7eeb65a2"
      },
      "source": [
        "# visualizando a quantidade de dados de treino e teste\n",
        "X_train.shape, X_test.shape, y_train.shape, y_test.shape"
      ],
      "execution_count": null,
      "outputs": [
        {
          "output_type": "execute_result",
          "data": {
            "text/plain": [
              "((16512, 8), (4128, 8), (16512,), (4128,))"
            ]
          },
          "metadata": {},
          "execution_count": 6
        }
      ]
    },
    {
      "cell_type": "markdown",
      "metadata": {
        "id": "hLbHZ1zMyznb"
      },
      "source": [
        "- **Etapa 3:** escalamos os dados exatamente como no exemplo de regressão acima e pelo mesmo motivo."
      ]
    },
    {
      "cell_type": "code",
      "metadata": {
        "id": "Zp8mL2rqmXBe"
      },
      "source": [
        "# instanciando o algoritmo para escalamos os dados de treino e teste\n",
        "std_sc = StandardScaler()"
      ],
      "execution_count": null,
      "outputs": []
    },
    {
      "cell_type": "markdown",
      "metadata": {
        "id": "Qq5KQdMuxNof"
      },
      "source": [
        "> - StandardScaler\n",
        "    - https://bit.ly/3kCNvLl"
      ]
    },
    {
      "cell_type": "code",
      "metadata": {
        "id": "5FlX7neUmW_D"
      },
      "source": [
        "# aplicando o escalamento dos dado com nosso objeto definido\n",
        "X_train_scaled = std_sc.fit_transform(X_train)\n",
        "X_test_scaled = std_sc.transform(X_test)"
      ],
      "execution_count": null,
      "outputs": []
    },
    {
      "cell_type": "markdown",
      "metadata": {
        "id": "ERjmG2hf0hM9"
      },
      "source": [
        "- **Etapa 4:** No código abaixo, três camadas ocultas são modeladas, com 64 neurônios em cada camada. Considerando a camada de entrada e saída, temos um total de 5 camadas no modelo. No caso de qualquer otimizador não ser mencionado, então “Adam” é o otimizador padrão e pode gerenciar um conjunto de dados muito grande."
      ]
    },
    {
      "cell_type": "code",
      "metadata": {
        "id": "cb4rD6H_0nW9"
      },
      "source": [
        "# instanciando o modelo de regressão e aplicando o treinamento do modelo\n",
        "model_reg = MLPRegressor(hidden_layer_sizes=(64,64,64), \n",
        "                         activation='relu', \n",
        "                         random_state=1, \n",
        "                         max_iter=2000).fit(X_train_scaled, y_train)"
      ],
      "execution_count": null,
      "outputs": []
    },
    {
      "cell_type": "markdown",
      "metadata": {
        "id": "BZKM6fQV1yd-"
      },
      "source": [
        "> Além da ativação “RELU”, o MLPRegressor suporta a função “sigmoid” e “hyperbolic tan”.<br>\n",
        "- MLPRegressor\n",
        "  - https://bit.ly/2XNBsSZ\n"
      ]
    },
    {
      "cell_type": "markdown",
      "metadata": {
        "id": "NAmoqcel13p9"
      },
      "source": [
        "- **Etapa 5:** no código a seguir, o modelo treinado é usado para prever os valores de destino do conjunto de dados de teste reservado, que o modelo não viu antes."
      ]
    },
    {
      "cell_type": "code",
      "metadata": {
        "colab": {
          "base_uri": "https://localhost:8080/"
        },
        "id": "PJYcR8hb0n_G",
        "outputId": "a253de5e-affe-4127-e98e-18d62607d366"
      },
      "source": [
        "# realizando as predições\n",
        "y_pred = model_reg.predict(X_test_scaled)\n",
        "\n",
        "print('Score:', (r2_score(y_pred, y_test)))"
      ],
      "execution_count": null,
      "outputs": [
        {
          "output_type": "stream",
          "name": "stdout",
          "text": [
            "Score: 0.7633133194206162\n"
          ]
        }
      ]
    },
    {
      "cell_type": "markdown",
      "metadata": {
        "id": "zKILYsjH6EQT"
      },
      "source": [
        "Vimos um exemplo de regressão. A seguir, veremos exemplo de classificação. \n",
        "\n",
        "No Scikit-learn, “MLPClassifier” está disponível para cenários de classificação Multilayer Perceptron (MLP)."
      ]
    },
    {
      "cell_type": "markdown",
      "metadata": {
        "id": "2AsamZhA52aD"
      },
      "source": [
        "### **Exemplo de classificação**\n",
        "\n",
        "---\n",
        "Nesse exemplo para classificação utilizaremos três conjuntos de dados:\n",
        "- `load_iris`\n",
        "  - classificação de multiclasses.\n",
        "    - o tipo de espécie da flor: Iris-Setosa, Iris-Versicolor e Iris-Virginica.<br><br>\n",
        "- `load_digits`\n",
        "  - classificação de multiclasses.\n",
        "    - o número presente na imagem: 0, 1, 2, 3, 4, 5, 6, 7, 8, 9.<br><br>\n",
        "- `load_breast_cancer`\n",
        "  - classificação binária (duas classes).\n",
        "    - se o câncer é malgino ou benigno.\n",
        "\n"
      ]
    },
    {
      "cell_type": "markdown",
      "metadata": {
        "id": "z0-lzUIBX1fU"
      },
      "source": [
        "#### **load_iris**"
      ]
    },
    {
      "cell_type": "markdown",
      "metadata": {
        "id": "AxrxiB_46PR7"
      },
      "source": [
        "- **Passo 1:** Como sempre primeiro iremos importar os módulos que usaremos no exemplo. Usaremos o banco de dados Iris e o MLPClassifierfrom para o exemplo de classificação."
      ]
    },
    {
      "cell_type": "code",
      "metadata": {
        "id": "xFD9kHh552Ex"
      },
      "source": [
        "# importando as bibliotecas\n",
        "import pandas as pd\n",
        "from sklearn.neural_network import MLPClassifier\n",
        "from sklearn.datasets import load_iris\n",
        "from sklearn.model_selection import train_test_split\n",
        "from sklearn.preprocessing import StandardScaler\n",
        "from sklearn.metrics import plot_confusion_matrix\n",
        "import matplotlib.pyplot as plt\n",
        "\n",
        "%matplotlib inline"
      ],
      "execution_count": null,
      "outputs": []
    },
    {
      "cell_type": "markdown",
      "metadata": {
        "id": "XHubhyEC7PT8"
      },
      "source": [
        "- **Etapa 2:** Iremos instanciar o conjunto de dados e, para em seguida separar o as variáveis independentes, nesse caso iremos chamar de “X” e, a variável dependentes, “y”."
      ]
    },
    {
      "cell_type": "code",
      "metadata": {
        "colab": {
          "base_uri": "https://localhost:8080/"
        },
        "id": "cFa4wzot0n8-",
        "outputId": "d03a3b27-44d4-43d7-d8cd-16c411ede9b2"
      },
      "source": [
        "# instanciando o conjunto de dados\n",
        "iris_data = load_iris()\n",
        "\n",
        "# visualizando informações gerais do dataset\n",
        "print(iris_data.DESCR)"
      ],
      "execution_count": null,
      "outputs": [
        {
          "output_type": "stream",
          "name": "stdout",
          "text": [
            ".. _iris_dataset:\n",
            "\n",
            "Iris plants dataset\n",
            "--------------------\n",
            "\n",
            "**Data Set Characteristics:**\n",
            "\n",
            "    :Number of Instances: 150 (50 in each of three classes)\n",
            "    :Number of Attributes: 4 numeric, predictive attributes and the class\n",
            "    :Attribute Information:\n",
            "        - sepal length in cm\n",
            "        - sepal width in cm\n",
            "        - petal length in cm\n",
            "        - petal width in cm\n",
            "        - class:\n",
            "                - Iris-Setosa\n",
            "                - Iris-Versicolour\n",
            "                - Iris-Virginica\n",
            "                \n",
            "    :Summary Statistics:\n",
            "\n",
            "    ============== ==== ==== ======= ===== ====================\n",
            "                    Min  Max   Mean    SD   Class Correlation\n",
            "    ============== ==== ==== ======= ===== ====================\n",
            "    sepal length:   4.3  7.9   5.84   0.83    0.7826\n",
            "    sepal width:    2.0  4.4   3.05   0.43   -0.4194\n",
            "    petal length:   1.0  6.9   3.76   1.76    0.9490  (high!)\n",
            "    petal width:    0.1  2.5   1.20   0.76    0.9565  (high!)\n",
            "    ============== ==== ==== ======= ===== ====================\n",
            "\n",
            "    :Missing Attribute Values: None\n",
            "    :Class Distribution: 33.3% for each of 3 classes.\n",
            "    :Creator: R.A. Fisher\n",
            "    :Donor: Michael Marshall (MARSHALL%PLU@io.arc.nasa.gov)\n",
            "    :Date: July, 1988\n",
            "\n",
            "The famous Iris database, first used by Sir R.A. Fisher. The dataset is taken\n",
            "from Fisher's paper. Note that it's the same as in R, but not as in the UCI\n",
            "Machine Learning Repository, which has two wrong data points.\n",
            "\n",
            "This is perhaps the best known database to be found in the\n",
            "pattern recognition literature.  Fisher's paper is a classic in the field and\n",
            "is referenced frequently to this day.  (See Duda & Hart, for example.)  The\n",
            "data set contains 3 classes of 50 instances each, where each class refers to a\n",
            "type of iris plant.  One class is linearly separable from the other 2; the\n",
            "latter are NOT linearly separable from each other.\n",
            "\n",
            ".. topic:: References\n",
            "\n",
            "   - Fisher, R.A. \"The use of multiple measurements in taxonomic problems\"\n",
            "     Annual Eugenics, 7, Part II, 179-188 (1936); also in \"Contributions to\n",
            "     Mathematical Statistics\" (John Wiley, NY, 1950).\n",
            "   - Duda, R.O., & Hart, P.E. (1973) Pattern Classification and Scene Analysis.\n",
            "     (Q327.D83) John Wiley & Sons.  ISBN 0-471-22361-1.  See page 218.\n",
            "   - Dasarathy, B.V. (1980) \"Nosing Around the Neighborhood: A New System\n",
            "     Structure and Classification Rule for Recognition in Partially Exposed\n",
            "     Environments\".  IEEE Transactions on Pattern Analysis and Machine\n",
            "     Intelligence, Vol. PAMI-2, No. 1, 67-71.\n",
            "   - Gates, G.W. (1972) \"The Reduced Nearest Neighbor Rule\".  IEEE Transactions\n",
            "     on Information Theory, May 1972, 431-433.\n",
            "   - See also: 1988 MLC Proceedings, 54-64.  Cheeseman et al\"s AUTOCLASS II\n",
            "     conceptual clustering system finds 3 classes in the data.\n",
            "   - Many, many more ...\n"
          ]
        }
      ]
    },
    {
      "cell_type": "code",
      "metadata": {
        "id": "B36KwA5x0n6m"
      },
      "source": [
        "# instancaindo as variáveis independentes e a dependente\n",
        "X = pd.DataFrame(iris_data.data, \n",
        "                 columns=iris_data.feature_names)\n",
        "\n",
        "y = iris_data.target"
      ],
      "execution_count": null,
      "outputs": []
    },
    {
      "cell_type": "code",
      "metadata": {
        "colab": {
          "base_uri": "https://localhost:8080/"
        },
        "id": "z2YzMpdW0n3u",
        "outputId": "0b6055b1-63ec-4c7f-e3de-3085f1384317"
      },
      "source": [
        "# visualizando a(s) dimensão (es) dos objetos\n",
        "X.shape, y.shape "
      ],
      "execution_count": null,
      "outputs": [
        {
          "output_type": "execute_result",
          "data": {
            "text/plain": [
              "((150, 4), (150,))"
            ]
          },
          "metadata": {},
          "execution_count": 14
        }
      ]
    },
    {
      "cell_type": "markdown",
      "metadata": {
        "id": "I01z14iv9lBP"
      },
      "source": [
        "- **Etapa 3:** Semelhante ao exemplo de regressão, dividiremos o conjunto de dados em conjunto de dados de treinamento e teste. Reservando 20% do conjunto de dados para verificar a precisão do modelo treinado. \n",
        "\n",
        "Os conjunto de dados de treino e teste são dimensionados posteriormente para garantir que os dados de entrada sejam normalmente distribuídos de forma padrão, centralizados em torno de zero e com variação na mesma ordem."
      ]
    },
    {
      "cell_type": "code",
      "metadata": {
        "id": "cem9B9jm8qu9"
      },
      "source": [
        "# separando os dados em treino e de teste\n",
        "X_train, X_test, y_train, y_test = train_test_split(X, y, \n",
        "                                                    random_state=1, \n",
        "                                                    test_size=0.2)"
      ],
      "execution_count": null,
      "outputs": []
    },
    {
      "cell_type": "code",
      "metadata": {
        "id": "zUT941m-8qsP"
      },
      "source": [
        "# instanciando o algoritmo para realizar o escalamento dos dados\n",
        "std_sc = StandardScaler()\n",
        "\n",
        "# aplicando o escalemento nos dados de X - treino e teste\n",
        "X_train_scaled = std_sc.fit_transform(X_train)\n",
        "X_test_scaled = std_sc.transform(X_test)"
      ],
      "execution_count": null,
      "outputs": []
    },
    {
      "cell_type": "markdown",
      "metadata": {
        "id": "vNknrXJX_ZnY"
      },
      "source": [
        "- **Etapa 4:** no código a seguir, modelamos quatro camadas ocultas com diferentes neurônios em cada camada. Considerando a camada de entrada e saída, temos um total de 6 camadas no modelo. Caso algum otimizador não seja mencionado, “Adam” é o otimizador padrão."
      ]
    },
    {
      "cell_type": "code",
      "metadata": {
        "id": "3MBySONT8qp9"
      },
      "source": [
        "# instanciando o classificador\n",
        "clf = MLPClassifier(hidden_layer_sizes=(256,128,64,32), \n",
        "                    activation='relu', \n",
        "                    random_state=1).fit(X_train_scaled, y_train)"
      ],
      "execution_count": null,
      "outputs": []
    },
    {
      "cell_type": "markdown",
      "metadata": {
        "id": "COf0WnBayUC8"
      },
      "source": [
        "> - MLPClassifier\n",
        "    - https://bit.ly/3EQ1LbO"
      ]
    },
    {
      "cell_type": "code",
      "metadata": {
        "colab": {
          "base_uri": "https://localhost:8080/"
        },
        "id": "Fd7a850p8qk3",
        "outputId": "cca315be-9579-408b-e2f5-b88d6b90de6c"
      },
      "source": [
        "# realizando as predições\n",
        "y_pred = clf.predict(X_test_scaled)\n",
        "\n",
        "# visualizando o score\n",
        "clf.score(X_test_scaled, y_test)"
      ],
      "execution_count": null,
      "outputs": [
        {
          "output_type": "execute_result",
          "data": {
            "text/plain": [
              "0.9666666666666667"
            ]
          },
          "metadata": {},
          "execution_count": 18
        }
      ]
    },
    {
      "cell_type": "markdown",
      "metadata": {
        "id": "omOBgnJPASLx"
      },
      "source": [
        "O classificador mostra uma pontuação bastante alta para os dados de teste. É importante compreender as áreas nas quais o modelo de classificação está cometendo um erro para ter uma noção completa da precisão do modelo."
      ]
    },
    {
      "cell_type": "markdown",
      "metadata": {
        "id": "hREE8yH7AfgK"
      },
      "source": [
        "Você pode ler mais sobre o motivo pelo qual devemos usar a matriz de confusão para julgar a precisão do modelo de classificação em “Visualização de precisão: Algoritmos de classificação de aprendizado de máquina supervisionado”."
      ]
    },
    {
      "cell_type": "markdown",
      "metadata": {
        "id": "Kr9ogcuaAmfh"
      },
      "source": [
        "- **Passo 5:** Iremos imprimir o relatório das métricas e em seguida plotar uma matriz de confusão para entender as classificações que são feitas incorretas pelo modelo."
      ]
    },
    {
      "cell_type": "code",
      "metadata": {
        "colab": {
          "base_uri": "https://localhost:8080/"
        },
        "id": "vcgWE6jrXD3z",
        "outputId": "82157afe-2c51-4621-9c26-d27ace22e028"
      },
      "source": [
        "from sklearn.metrics import classification_report\n",
        "\n",
        "# avaliando a rede neural\n",
        "print('\\t\\t[INFO] avaliando a rede neural\\n')\n",
        "predictions = clf.predict(X_test_scaled)\n",
        "\n",
        "print(classification_report(y_test, \n",
        "                            predictions))"
      ],
      "execution_count": null,
      "outputs": [
        {
          "output_type": "stream",
          "name": "stdout",
          "text": [
            "\t\t[INFO] avaliando a rede neural\n",
            "\n",
            "              precision    recall  f1-score   support\n",
            "\n",
            "           0       1.00      1.00      1.00        11\n",
            "           1       1.00      0.92      0.96        13\n",
            "           2       0.86      1.00      0.92         6\n",
            "\n",
            "    accuracy                           0.97        30\n",
            "   macro avg       0.95      0.97      0.96        30\n",
            "weighted avg       0.97      0.97      0.97        30\n",
            "\n"
          ]
        }
      ]
    },
    {
      "cell_type": "code",
      "metadata": {
        "colab": {
          "base_uri": "https://localhost:8080/",
          "height": 308
        },
        "id": "jEKS3akj8qiK",
        "outputId": "6472cbad-529c-464c-f1ea-a245fbed4644"
      },
      "source": [
        "# plotando a matriz de confusão\n",
        "fig = plot_confusion_matrix(clf, X_test_scaled, y_test, \n",
        "                            display_labels=['Setosa', 'Versicolor', 'Virginica'])\n",
        "\n",
        "fig.figure_.suptitle('Matrix de Confusão - Iris Dataset')\n",
        "plt.show();"
      ],
      "execution_count": null,
      "outputs": [
        {
          "output_type": "display_data",
          "data": {
            "image/png": "[encoded data removed]",
            "text/plain": [
              "<Figure size 432x288 with 2 Axes>"
            ]
          },
          "metadata": {
            "needs_background": "light"
          }
        }
      ]
    },
    {
      "cell_type": "markdown",
      "metadata": {
        "id": "Hsch84eNBkHq"
      },
      "source": [
        "> Parece que apenas uma espécie “Versicolor” é identificada incorretamente como “Virginica” e o resto pelo modelo."
      ]
    },
    {
      "cell_type": "markdown",
      "metadata": {
        "id": "ROHiGVuLB2fK"
      },
      "source": [
        "Conclusão: podemos fazer regressão de aprendizagem profunda simples e modelo de classificação no Scikit-learn. Na minha opinião, não é adequado para qualquer modelagem em grande escala da vida real, pois não há suporte para GPU e opções muito limitadas para ajustar os parâmetros.\n",
        "\n",
        "Você pode aprender mais sobre a técnica de visualização de aprendizado profundo no artigo Visualização de precisão em aprendizado profundo."
      ]
    },
    {
      "cell_type": "code",
      "metadata": {
        "id": "2jIX0eWP8qed"
      },
      "source": [
        ""
      ],
      "execution_count": null,
      "outputs": []
    },
    {
      "cell_type": "markdown",
      "metadata": {
        "id": "aYWewpasX_3_"
      },
      "source": [
        "#### **load_digits**"
      ]
    },
    {
      "cell_type": "code",
      "metadata": {
        "id": "1zP1wz__8qZ6"
      },
      "source": [
        "# importando as bibliotecas\n",
        "import pandas as pd\n",
        "from sklearn.neural_network import MLPClassifier\n",
        "from sklearn.datasets import load_digits\n",
        "from sklearn.model_selection import train_test_split\n",
        "from sklearn.preprocessing import StandardScaler\n",
        "from sklearn.metrics import plot_confusion_matrix\n",
        "import matplotlib.pyplot as plt\n",
        "\n",
        "%matplotlib inline"
      ],
      "execution_count": null,
      "outputs": []
    },
    {
      "cell_type": "code",
      "metadata": {
        "id": "HLRamGLi8qWi",
        "colab": {
          "base_uri": "https://localhost:8080/"
        },
        "outputId": "963d840c-112b-4a2e-9bd0-e441b6b54ad3"
      },
      "source": [
        "# instanciando o conjunto de dados\n",
        "digits_data = load_digits()\n",
        "\n",
        "# visualizando informações gerais do dataset\n",
        "print(digits_data.DESCR)"
      ],
      "execution_count": null,
      "outputs": [
        {
          "output_type": "stream",
          "name": "stdout",
          "text": [
            ".. _digits_dataset:\n",
            "\n",
            "Optical recognition of handwritten digits dataset\n",
            "--------------------------------------------------\n",
            "\n",
            "**Data Set Characteristics:**\n",
            "\n",
            "    :Number of Instances: 5620\n",
            "    :Number of Attributes: 64\n",
            "    :Attribute Information: 8x8 image of integer pixels in the range 0..16.\n",
            "    :Missing Attribute Values: None\n",
            "    :Creator: E. Alpaydin (alpaydin '@' boun.edu.tr)\n",
            "    :Date: July; 1998\n",
            "\n",
            "This is a copy of the test set of the UCI ML hand-written digits datasets\n",
            "https://archive.ics.uci.edu/ml/datasets/Optical+Recognition+of+Handwritten+Digits\n",
            "\n",
            "The data set contains images of hand-written digits: 10 classes where\n",
            "each class refers to a digit.\n",
            "\n",
            "Preprocessing programs made available by NIST were used to extract\n",
            "normalized bitmaps of handwritten digits from a preprinted form. From a\n",
            "total of 43 people, 30 contributed to the training set and different 13\n",
            "to the test set. 32x32 bitmaps are divided into nonoverlapping blocks of\n",
            "4x4 and the number of on pixels are counted in each block. This generates\n",
            "an input matrix of 8x8 where each element is an integer in the range\n",
            "0..16. This reduces dimensionality and gives invariance to small\n",
            "distortions.\n",
            "\n",
            "For info on NIST preprocessing routines, see M. D. Garris, J. L. Blue, G.\n",
            "T. Candela, D. L. Dimmick, J. Geist, P. J. Grother, S. A. Janet, and C.\n",
            "L. Wilson, NIST Form-Based Handprint Recognition System, NISTIR 5469,\n",
            "1994.\n",
            "\n",
            ".. topic:: References\n",
            "\n",
            "  - C. Kaynak (1995) Methods of Combining Multiple Classifiers and Their\n",
            "    Applications to Handwritten Digit Recognition, MSc Thesis, Institute of\n",
            "    Graduate Studies in Science and Engineering, Bogazici University.\n",
            "  - E. Alpaydin, C. Kaynak (1998) Cascading Classifiers, Kybernetika.\n",
            "  - Ken Tang and Ponnuthurai N. Suganthan and Xi Yao and A. Kai Qin.\n",
            "    Linear dimensionalityreduction using relevance weighted LDA. School of\n",
            "    Electrical and Electronic Engineering Nanyang Technological University.\n",
            "    2005.\n",
            "  - Claudio Gentile. A New Approximate Maximal Margin Classification\n",
            "    Algorithm. NIPS. 2000.\n"
          ]
        }
      ]
    },
    {
      "cell_type": "code",
      "metadata": {
        "id": "frs3vN8c8qR9"
      },
      "source": [
        "# instancaindo as variáveis independentes e a dependente\n",
        "X = pd.DataFrame(digits_data.data)\n",
        "y = digits_data.target"
      ],
      "execution_count": null,
      "outputs": []
    },
    {
      "cell_type": "code",
      "metadata": {
        "id": "a7HSMT1F8qP1",
        "colab": {
          "base_uri": "https://localhost:8080/"
        },
        "outputId": "77cb0e39-266b-44b0-cd14-c8e273b7589f"
      },
      "source": [
        "# visualizando a(s) dimensão (es) dos objetos\n",
        "X.shape, y.shape "
      ],
      "execution_count": null,
      "outputs": [
        {
          "output_type": "execute_result",
          "data": {
            "text/plain": [
              "((1797, 64), (1797,))"
            ]
          },
          "metadata": {},
          "execution_count": 24
        }
      ]
    },
    {
      "cell_type": "code",
      "metadata": {
        "id": "tkCQZdlG8qNW"
      },
      "source": [
        "# separando os dados em treino e de teste\n",
        "X_train, X_test, y_train, y_test = train_test_split(X, y, \n",
        "                                                    random_state=1, \n",
        "                                                    test_size=0.2)"
      ],
      "execution_count": null,
      "outputs": []
    },
    {
      "cell_type": "code",
      "metadata": {
        "id": "wWsZzabO8qKz"
      },
      "source": [
        "# instanciando o algoritmo para realizar o escalamento dos dados\n",
        "std_sc = StandardScaler()\n",
        "\n",
        "# aplicando o escalemento nos dados de X - treino e teste\n",
        "X_train_scaled = std_sc.fit_transform(X_train)\n",
        "X_test_scaled = std_sc.transform(X_test)"
      ],
      "execution_count": null,
      "outputs": []
    },
    {
      "cell_type": "code",
      "metadata": {
        "id": "iL56_-2U8qIT"
      },
      "source": [
        "# instanciando o classificador\n",
        "clf = MLPClassifier(hidden_layer_sizes=(256,128,64,32,10), \n",
        "                    activation='relu', \n",
        "                    random_state=1).fit(X_train_scaled, y_train)"
      ],
      "execution_count": null,
      "outputs": []
    },
    {
      "cell_type": "code",
      "metadata": {
        "id": "YiEDNQrP8qGV",
        "colab": {
          "base_uri": "https://localhost:8080/"
        },
        "outputId": "764eebfd-00e6-49e0-bf06-1005bdca848c"
      },
      "source": [
        "# realizando as predições\n",
        "y_pred = clf.predict(X_test_scaled)\n",
        "\n",
        "# visualizando o score\n",
        "clf.score(X_test_scaled, y_test)"
      ],
      "execution_count": null,
      "outputs": [
        {
          "output_type": "execute_result",
          "data": {
            "text/plain": [
              "0.9722222222222222"
            ]
          },
          "metadata": {},
          "execution_count": 28
        }
      ]
    },
    {
      "cell_type": "code",
      "metadata": {
        "colab": {
          "base_uri": "https://localhost:8080/"
        },
        "id": "MelMNifOYNIX",
        "outputId": "04d8a9f2-e0d7-4d19-940e-c48e48336c0a"
      },
      "source": [
        "from sklearn.metrics import classification_report\n",
        "\n",
        "# avaliando a rede neural\n",
        "print('\\t\\t[INFO] avaliando a rede neural\\n')\n",
        "predictions = clf.predict(X_test_scaled)\n",
        "\n",
        "print(classification_report(y_test, \n",
        "                            predictions))"
      ],
      "execution_count": null,
      "outputs": [
        {
          "output_type": "stream",
          "name": "stdout",
          "text": [
            "\t\t[INFO] avaliando a rede neural\n",
            "\n",
            "              precision    recall  f1-score   support\n",
            "\n",
            "           0       1.00      0.95      0.98        43\n",
            "           1       1.00      0.97      0.99        35\n",
            "           2       1.00      0.94      0.97        36\n",
            "           3       0.93      1.00      0.96        41\n",
            "           4       0.97      1.00      0.99        38\n",
            "           5       0.94      1.00      0.97        30\n",
            "           6       1.00      1.00      1.00        37\n",
            "           7       0.97      0.97      0.97        37\n",
            "           8       0.96      0.90      0.93        29\n",
            "           9       0.94      0.97      0.96        34\n",
            "\n",
            "    accuracy                           0.97       360\n",
            "   macro avg       0.97      0.97      0.97       360\n",
            "weighted avg       0.97      0.97      0.97       360\n",
            "\n"
          ]
        }
      ]
    },
    {
      "cell_type": "code",
      "metadata": {
        "id": "QVE_OOcn8qDk",
        "colab": {
          "base_uri": "https://localhost:8080/",
          "height": 308
        },
        "outputId": "e1b5bef9-6489-4449-bef8-f53813748565"
      },
      "source": [
        "# plotando a matriz de confusão\n",
        "fig = plot_confusion_matrix(clf, X_test_scaled, y_test, \n",
        "                            display_labels=['0', '1', '2', '3', '4',\n",
        "                                            '5', '6', '7', '8', '9'])\n",
        "\n",
        "fig.figure_.suptitle('Matrix de Confusão - Digits Dataset')\n",
        "plt.show();"
      ],
      "execution_count": null,
      "outputs": [
        {
          "output_type": "display_data",
          "data": {
            "image/png": "[encoded data removed]",
            "text/plain": [
              "<Figure size 432x288 with 2 Axes>"
            ]
          },
          "metadata": {
            "needs_background": "light"
          }
        }
      ]
    },
    {
      "cell_type": "code",
      "metadata": {
        "id": "C2fAwnMG8qBO"
      },
      "source": [
        ""
      ],
      "execution_count": null,
      "outputs": []
    },
    {
      "cell_type": "markdown",
      "metadata": {
        "id": "bfI2_HFSYvd8"
      },
      "source": [
        "#### **load_breast_cancer**"
      ]
    },
    {
      "cell_type": "code",
      "metadata": {
        "id": "uYY61ZYI8p-n"
      },
      "source": [
        "# importando as bibliotecas\n",
        "import pandas as pd\n",
        "from sklearn.neural_network import MLPClassifier\n",
        "from sklearn.datasets import load_breast_cancer\n",
        "from sklearn.model_selection import train_test_split\n",
        "from sklearn.preprocessing import StandardScaler\n",
        "from sklearn.metrics import plot_confusion_matrix\n",
        "import matplotlib.pyplot as plt\n",
        "\n",
        "%matplotlib inline"
      ],
      "execution_count": null,
      "outputs": []
    },
    {
      "cell_type": "code",
      "metadata": {
        "id": "iCcKNxlX8p7d",
        "colab": {
          "base_uri": "https://localhost:8080/"
        },
        "outputId": "09f2c1e8-e81b-4f26-a8c9-9c117bdc6b27"
      },
      "source": [
        "# instanciando o conjunto de dados\n",
        "cancer_data = load_breast_cancer()\n",
        "\n",
        "# visualizando informações gerais do dataset\n",
        "print(cancer_data.DESCR)"
      ],
      "execution_count": null,
      "outputs": [
        {
          "output_type": "stream",
          "name": "stdout",
          "text": [
            ".. _breast_cancer_dataset:\n",
            "\n",
            "Breast cancer wisconsin (diagnostic) dataset\n",
            "--------------------------------------------\n",
            "\n",
            "**Data Set Characteristics:**\n",
            "\n",
            "    :Number of Instances: 569\n",
            "\n",
            "    :Number of Attributes: 30 numeric, predictive attributes and the class\n",
            "\n",
            "    :Attribute Information:\n",
            "        - radius (mean of distances from center to points on the perimeter)\n",
            "        - texture (standard deviation of gray-scale values)\n",
            "        - perimeter\n",
            "        - area\n",
            "        - smoothness (local variation in radius lengths)\n",
            "        - compactness (perimeter^2 / area - 1.0)\n",
            "        - concavity (severity of concave portions of the contour)\n",
            "        - concave points (number of concave portions of the contour)\n",
            "        - symmetry \n",
            "        - fractal dimension (\"coastline approximation\" - 1)\n",
            "\n",
            "        The mean, standard error, and \"worst\" or largest (mean of the three\n",
            "        largest values) of these features were computed for each image,\n",
            "        resulting in 30 features.  For instance, field 3 is Mean Radius, field\n",
            "        13 is Radius SE, field 23 is Worst Radius.\n",
            "\n",
            "        - class:\n",
            "                - WDBC-Malignant\n",
            "                - WDBC-Benign\n",
            "\n",
            "    :Summary Statistics:\n",
            "\n",
            "    ===================================== ====== ======\n",
            "                                           Min    Max\n",
            "    ===================================== ====== ======\n",
            "    radius (mean):                        6.981  28.11\n",
            "    texture (mean):                       9.71   39.28\n",
            "    perimeter (mean):                     43.79  188.5\n",
            "    area (mean):                          143.5  2501.0\n",
            "    smoothness (mean):                    0.053  0.163\n",
            "    compactness (mean):                   0.019  0.345\n",
            "    concavity (mean):                     0.0    0.427\n",
            "    concave points (mean):                0.0    0.201\n",
            "    symmetry (mean):                      0.106  0.304\n",
            "    fractal dimension (mean):             0.05   0.097\n",
            "    radius (standard error):              0.112  2.873\n",
            "    texture (standard error):             0.36   4.885\n",
            "    perimeter (standard error):           0.757  21.98\n",
            "    area (standard error):                6.802  542.2\n",
            "    smoothness (standard error):          0.002  0.031\n",
            "    compactness (standard error):         0.002  0.135\n",
            "    concavity (standard error):           0.0    0.396\n",
            "    concave points (standard error):      0.0    0.053\n",
            "    symmetry (standard error):            0.008  0.079\n",
            "    fractal dimension (standard error):   0.001  0.03\n",
            "    radius (worst):                       7.93   36.04\n",
            "    texture (worst):                      12.02  49.54\n",
            "    perimeter (worst):                    50.41  251.2\n",
            "    area (worst):                         185.2  4254.0\n",
            "    smoothness (worst):                   0.071  0.223\n",
            "    compactness (worst):                  0.027  1.058\n",
            "    concavity (worst):                    0.0    1.252\n",
            "    concave points (worst):               0.0    0.291\n",
            "    symmetry (worst):                     0.156  0.664\n",
            "    fractal dimension (worst):            0.055  0.208\n",
            "    ===================================== ====== ======\n",
            "\n",
            "    :Missing Attribute Values: None\n",
            "\n",
            "    :Class Distribution: 212 - Malignant, 357 - Benign\n",
            "\n",
            "    :Creator:  Dr. William H. Wolberg, W. Nick Street, Olvi L. Mangasarian\n",
            "\n",
            "    :Donor: Nick Street\n",
            "\n",
            "    :Date: November, 1995\n",
            "\n",
            "This is a copy of UCI ML Breast Cancer Wisconsin (Diagnostic) datasets.\n",
            "https://goo.gl/U2Uwz2\n",
            "\n",
            "Features are computed from a digitized image of a fine needle\n",
            "aspirate (FNA) of a breast mass.  They describe\n",
            "characteristics of the cell nuclei present in the image.\n",
            "\n",
            "Separating plane described above was obtained using\n",
            "Multisurface Method-Tree (MSM-T) [K. P. Bennett, \"Decision Tree\n",
            "Construction Via Linear Programming.\" Proceedings of the 4th\n",
            "Midwest Artificial Intelligence and Cognitive Science Society,\n",
            "pp. 97-101, 1992], a classification method which uses linear\n",
            "programming to construct a decision tree.  Relevant features\n",
            "were selected using an exhaustive search in the space of 1-4\n",
            "features and 1-3 separating planes.\n",
            "\n",
            "The actual linear program used to obtain the separating plane\n",
            "in the 3-dimensional space is that described in:\n",
            "[K. P. Bennett and O. L. Mangasarian: \"Robust Linear\n",
            "Programming Discrimination of Two Linearly Inseparable Sets\",\n",
            "Optimization Methods and Software 1, 1992, 23-34].\n",
            "\n",
            "This database is also available through the UW CS ftp server:\n",
            "\n",
            "ftp ftp.cs.wisc.edu\n",
            "cd math-prog/cpo-dataset/machine-learn/WDBC/\n",
            "\n",
            ".. topic:: References\n",
            "\n",
            "   - W.N. Street, W.H. Wolberg and O.L. Mangasarian. Nuclear feature extraction \n",
            "     for breast tumor diagnosis. IS&T/SPIE 1993 International Symposium on \n",
            "     Electronic Imaging: Science and Technology, volume 1905, pages 861-870,\n",
            "     San Jose, CA, 1993.\n",
            "   - O.L. Mangasarian, W.N. Street and W.H. Wolberg. Breast cancer diagnosis and \n",
            "     prognosis via linear programming. Operations Research, 43(4), pages 570-577, \n",
            "     July-August 1995.\n",
            "   - W.H. Wolberg, W.N. Street, and O.L. Mangasarian. Machine learning techniques\n",
            "     to diagnose breast cancer from fine-needle aspirates. Cancer Letters 77 (1994) \n",
            "     163-171.\n"
          ]
        }
      ]
    },
    {
      "cell_type": "code",
      "metadata": {
        "id": "4FdmWLAlTCGF"
      },
      "source": [
        "# instancaindo as variáveis independentes e a dependente\n",
        "X = pd.DataFrame(cancer_data.data, \n",
        "                 columns=cancer_data.feature_names)\n",
        "# X = pd.DataFrame(cancer_data.data)\n",
        "\n",
        "y = cancer_data.target"
      ],
      "execution_count": null,
      "outputs": []
    },
    {
      "cell_type": "code",
      "metadata": {
        "colab": {
          "base_uri": "https://localhost:8080/"
        },
        "id": "CNfJVL1VTCED",
        "outputId": "c1786084-ee28-443e-844e-31ab1cff1e26"
      },
      "source": [
        "# visualizando a(s) dimensão (es) dos objetos\n",
        "X.shape, y.shape"
      ],
      "execution_count": null,
      "outputs": [
        {
          "output_type": "execute_result",
          "data": {
            "text/plain": [
              "((569, 30), (569,))"
            ]
          },
          "metadata": {},
          "execution_count": 34
        }
      ]
    },
    {
      "cell_type": "code",
      "metadata": {
        "id": "efJg7_ASTCBc"
      },
      "source": [
        "# separando os dados em treino e de teste\n",
        "X_train, X_test, y_train, y_test = train_test_split(X, y, \n",
        "                                                    random_state=1, \n",
        "                                                    test_size=0.2)"
      ],
      "execution_count": null,
      "outputs": []
    },
    {
      "cell_type": "code",
      "metadata": {
        "id": "LUA6e4RxTB_B"
      },
      "source": [
        "# instanciando o algoritmo para realizar o escalamento dos dados\n",
        "std_sc = StandardScaler()\n",
        "\n",
        "# aplicando o escalemento nos dados de X - treino e teste\n",
        "X_train_scaled = std_sc.fit_transform(X_train)\n",
        "X_test_scaled = std_sc.transform(X_test)"
      ],
      "execution_count": null,
      "outputs": []
    },
    {
      "cell_type": "code",
      "metadata": {
        "colab": {
          "base_uri": "https://localhost:8080/"
        },
        "id": "Q1A_gkKVTB9D",
        "outputId": "fc6e5535-a02a-4bdc-9245-25f452dd9f74"
      },
      "source": [
        "# instanciando o classificador\n",
        "clf = MLPClassifier(hidden_layer_sizes=(128,64,32,2), \n",
        "                    activation='relu', \n",
        "                    random_state=1).fit(X_train_scaled, y_train)"
      ],
      "execution_count": null,
      "outputs": [
        {
          "output_type": "stream",
          "name": "stderr",
          "text": [
            "/usr/local/lib/python3.7/dist-packages/sklearn/neural_network/_multilayer_perceptron.py:571: ConvergenceWarning: Stochastic Optimizer: Maximum iterations (200) reached and the optimization hasn't converged yet.\n",
            "  % self.max_iter, ConvergenceWarning)\n"
          ]
        }
      ]
    },
    {
      "cell_type": "code",
      "metadata": {
        "colab": {
          "base_uri": "https://localhost:8080/"
        },
        "id": "oCYZUGmtTB7V",
        "outputId": "4cdaaab3-0dae-4287-baeb-505a9af92f6b"
      },
      "source": [
        "# realizando as predições\n",
        "y_pred = clf.predict(X_test_scaled)\n",
        "\n",
        "# visualizando o score\n",
        "clf.score(X_test_scaled, y_test)"
      ],
      "execution_count": null,
      "outputs": [
        {
          "output_type": "execute_result",
          "data": {
            "text/plain": [
              "0.9649122807017544"
            ]
          },
          "metadata": {},
          "execution_count": 38
        }
      ]
    },
    {
      "cell_type": "code",
      "metadata": {
        "colab": {
          "base_uri": "https://localhost:8080/"
        },
        "id": "6aDg6FoLU5nO",
        "outputId": "625c90cd-f4fe-4b85-eb7b-b56905c32df7"
      },
      "source": [
        "from sklearn.metrics import classification_report\n",
        "\n",
        "# avaliando a rede neural\n",
        "print('\\t\\t[INFO] avaliando a rede neural\\n')\n",
        "predictions = clf.predict(X_test_scaled)\n",
        "\n",
        "print(classification_report(y_test, \n",
        "                            predictions))"
      ],
      "execution_count": null,
      "outputs": [
        {
          "output_type": "stream",
          "name": "stdout",
          "text": [
            "\t\t[INFO] avaliando a rede neural\n",
            "\n",
            "              precision    recall  f1-score   support\n",
            "\n",
            "           0       1.00      0.90      0.95        42\n",
            "           1       0.95      1.00      0.97        72\n",
            "\n",
            "    accuracy                           0.96       114\n",
            "   macro avg       0.97      0.95      0.96       114\n",
            "weighted avg       0.97      0.96      0.96       114\n",
            "\n"
          ]
        }
      ]
    },
    {
      "cell_type": "code",
      "metadata": {
        "colab": {
          "base_uri": "https://localhost:8080/",
          "height": 308
        },
        "id": "xUVm3dW7TB5f",
        "outputId": "52253437-44a4-4752-dba6-8e9514f2564a"
      },
      "source": [
        "# plotando a matriz de confusão\n",
        "fig = plot_confusion_matrix(clf, X_test_scaled, y_test, \n",
        "                            display_labels=['Malignant', 'Benign'])\n",
        "\n",
        "fig.figure_.suptitle('Matrix de Confusão - Cancer Dataset')\n",
        "plt.show();"
      ],
      "execution_count": null,
      "outputs": [
        {
          "output_type": "display_data",
          "data": {
            "image/png": "[encoded data removed]",
            "text/plain": [
              "<Figure size 432x288 with 2 Axes>"
            ]
          },
          "metadata": {
            "needs_background": "light"
          }
        }
      ]
    },
    {
      "cell_type": "markdown",
      "metadata": {
        "id": "ssad7YLws97d"
      },
      "source": [
        "#### **Material extra:**\n",
        "\n",
        "---\n",
        "\n",
        "- Perceptron multicamadas\n",
        "  - https://bit.ly/3lVtRtt\n",
        "- Capítulo 10 – As 10 Principais Arquiteturas de Redes Neurais\n",
        "  - https://bit.ly/39zaUXL\n",
        "- Redes Neurais Profundas - Deep Learning\n",
        "Aula 2 - Redes Neurais Perceptron Multicamadas\n",
        "  - https://bit.ly/3AItnNt\n",
        "- Rede Neural Perceptron Multicamadas\n",
        "  - https://bit.ly/3ucnVAa\n",
        "- Redes Neurais, Perceptron Multicamadas e o Algoritmo Backpropagation\n",
        "  - https://bit.ly/2W7G1qb\n",
        "- Diferentes abordagens para o aprendizado da rede neural artificial multilayer perceptron.\n",
        "  - https://bit.ly/3AGa0Vd"
      ]
    },
    {
      "cell_type": "code",
      "metadata": {
        "id": "gU4p8XqPTB3x"
      },
      "source": [
        ""
      ],
      "execution_count": null,
      "outputs": []
    },
    {
      "cell_type": "code",
      "metadata": {
        "id": "NIcgnqgWTB1I"
      },
      "source": [
        ""
      ],
      "execution_count": null,
      "outputs": []
    },
    {
      "cell_type": "code",
      "metadata": {
        "id": "SCOZNtdqTBy8"
      },
      "source": [
        ""
      ],
      "execution_count": null,
      "outputs": []
    },
    {
      "cell_type": "code",
      "metadata": {
        "id": "gYvGAbNwTBxH"
      },
      "source": [
        ""
      ],
      "execution_count": null,
      "outputs": []
    },
    {
      "cell_type": "code",
      "metadata": {
        "id": "BMgd3HGnTBu3"
      },
      "source": [
        ""
      ],
      "execution_count": null,
      "outputs": []
    }
  ]
}